{
 "cells": [
  {
   "cell_type": "markdown",
   "metadata": {
    "lang": "en"
   },
   "source": [
    "## Predicting values\n",
    "\n",
    "Data mining, assignment, 18/04/2021\n",
    "**Ardit Nela**"
   ]
  },
  {
   "cell_type": "markdown",
   "metadata": {
    "lang": "en"
   },
   "source": [
    "We will get to know the practical use of simple methods of supervised modeling or forecasting. The common property of all of these methods is that with the help of random variables (attributes) they model the values of a specific variable,\n",
    "which we call *class* (in the context of classifying, classifying)\n",
    "or *response* (in the context of regression). We learnt about the basic differences between contexts in lectures and tutorials.\n",
    "\n",
    "The practical goals we will pursue are:\n",
    "* modeling of individual user's responses (responses) with the help of all other users,\n",
    "* Comparison of supervised modeling methods."
   ]
  },
  {
   "cell_type": "markdown",
   "metadata": {
    "lang": "en"
   },
   "source": [
    "### Data\n",
    "\n",
    "The description of the MovieLens database remains the same as for the first assignment."
   ]
  },
  {
   "cell_type": "markdown",
   "metadata": {
    "lang": "en"
   },
   "source": [
    "### Preparation of data\n",
    "\n",
    "For the purposes of this task we will prepare the data as follows:\n",
    "1. Select $m$ movies with at least 100 views.\n",
    "2. Select $n$ users who have watched at least 100 movies.\n",
    "3. Prepare matrix $X$ in the size of $m \\times n$, where the lines represent movies and columns represent users. Replace unknown values with $0$.\n",
    "\n",
    "For each of the selected $n$ users, a regression model will be built, which aims to predict film ratings."
   ]
  },
  {
   "cell_type": "markdown",
   "metadata": {},
   "source": [
    "<table>\n",
    "    <tr style=\"background-color: white;\">\n",
    "        <td style=\"border-right: 1px solid #000;\"></td>\n",
    "        <td></td>\n",
    "        <td style=\"border-right: 1px solid #000; border-left: 1px solid #000;\">$y^{(0)}$</td>\n",
    "        <td colspan=3 style=\"text-align:center;\">$X^{(0)}$</td>\n",
    "    </tr>\n",
    "    <tr style=\"border-bottom: 1px solid #000;\">\n",
    "        <td style=\"border-right: 1px solid #000;\"></td>\n",
    "        <td>Film/uporabnik</td>\n",
    "        <td style=\"border-right: 1px solid #000; border-left: 1px solid #000;\">$u_0$</td>\n",
    "        <td>$u_1$</td>\n",
    "        <td>$u_2$</td>\n",
    "        <td>$\\cdots$</td>\n",
    "    </tr>\n",
    "    <tr>\n",
    "        <td style=\"border-right: 1px solid #000;\">${f_1}$</td>\n",
    "        <td>Twelve Monkeys (a.k.a. 12 Monkeys) (1995)</td>\n",
    "        <td style=\"border-right: 1px solid #000; border-left: 1px solid #000;\">0</td>\n",
    "        <td>0</td>\n",
    "        <td>2.5</td>\n",
    "        <td>$\\cdots$</td>\n",
    "    </tr>\n",
    "    <tr>\n",
    "        <td style=\"border-right: 1px solid #000;\">${f_2}$</td>\n",
    "        <td>Dances with  Wolves (1990) </td>\n",
    "        <td style=\"border-right: 1px solid #000; border-left: 1px solid #000;\">4</td>\n",
    "        <td>0</td>\n",
    "        <td>0</td>\n",
    "        <td>$\\cdots$</td>\n",
    "    </tr>\n",
    "    <tr>\n",
    "        <td style=\"border-right: 1px solid #000;\">${f_3}$</td>\n",
    "        <td>Apollo 13 (1995)</td>\n",
    "        <td style=\"border-right: 1px solid #000; border-left: 1px solid #000;\">0</td>\n",
    "        <td>2</td>\n",
    "        <td>0</td>\n",
    "        <td>$\\cdots$</td>\n",
    "    </tr>\n",
    "    <tr>\n",
    "        <td style=\"border-right: 1px solid #000;\">${f_4}$</td>\n",
    "        <td>Sixth Sense, The (1999)</td><td style=\"border-right: 1px solid #000; border-left: 1px solid #000;\">3</td>\n",
    "        <td>0</td>\n",
    "        <td>4</td>\n",
    "        <td>$\\cdots$</td>\n",
    "    </tr>\n",
    "    <tr>\n",
    "        <td style=\"border-right: 1px solid #000;\">$\\cdots$</td>\n",
    "        <td>$\\cdots$</td>\n",
    "        <td style=\"border-right: 1px solid #000; border-left: 1px solid #000;\">$\\cdots$</td>\n",
    "        <td>$\\cdots$</td>\n",
    "        <td>$\\cdots$</td>\n",
    "        <td>$\\cdots$</td>\n",
    "    </tr>\n",
    "</table>\n",
    "\n",
    "<table>\n",
    "    <tr style=\"background-color: white;\">\n",
    "        <td style=\"border-right: 1px solid #000;\"></td>\n",
    "        <td></td>\n",
    "        <td style=\"border-right: 1px solid #000; border-left: 1px solid #000;\">$y^{(1)}$</td>\n",
    "        <td colspan=3 style=\"text-align:center;\">$X^{(1)}$</td>\n",
    "    </tr>\n",
    "    <tr style=\"border-bottom: 1px solid #000;\">\n",
    "        <td style=\"border-right: 1px solid #000;\"></td>\n",
    "        <td>Film/uporabnik</td>\n",
    "        <td style=\"border-right: 1px solid #000; border-left: 1px solid #000;\">$u_1$</td>\n",
    "        <td>$u_0$</td>\n",
    "        <td>$u_2$</td>\n",
    "        <td>$\\cdots$</td>\n",
    "    </tr>\n",
    "    <tr>\n",
    "        <td style=\"border-right: 1px solid #000;\">${f_1}$</td>\n",
    "        <td>Twelve Monkeys (a.k.a. 12 Monkeys) (1995)</td>\n",
    "        <td style=\"border-right: 1px solid #000; border-left: 1px solid #000;\">0</td>\n",
    "        <td>0</td>\n",
    "        <td>2.5</td>\n",
    "        <td>$\\cdots$</td>\n",
    "    </tr>\n",
    "    <tr>\n",
    "        <td style=\"border-right: 1px solid #000;\">${f_2}$</td>\n",
    "        <td>Dances with  Wolves (1990) </td>\n",
    "        <td style=\"border-right: 1px solid #000; border-left: 1px solid #000;\">0</td>\n",
    "        <td>4</td>\n",
    "        <td>0</td>\n",
    "        <td>$\\cdots$</td>\n",
    "    </tr>\n",
    "    <tr>\n",
    "        <td style=\"border-right: 1px solid #000;\">${f_3}$</td>\n",
    "        <td>Apollo 13 (1995)</td>\n",
    "        <td style=\"border-right: 1px solid #000; border-left: 1px solid #000;\">2</td>\n",
    "        <td>0</td>\n",
    "        <td>0</td>\n",
    "        <td>$\\cdots$</td>\n",
    "    </tr>\n",
    "    <tr>\n",
    "        <td style=\"border-right: 1px solid #000;\">${f_4}$</td>\n",
    "        <td>Sixth Sense, The (1999)</td><td style=\"border-right: 1px solid #000; border-left: 1px solid #000;\">0</td>\n",
    "        <td>3</td>\n",
    "        <td>4</td>\n",
    "        <td>$\\cdots$</td>\n",
    "    </tr>\n",
    "    <tr>\n",
    "        <td style=\"border-right: 1px solid #000;\">$\\cdots$</td>\n",
    "        <td>$\\cdots$</td>\n",
    "        <td style=\"border-right: 1px solid #000; border-left: 1px solid #000;\">$\\cdots$</td>\n",
    "        <td>$\\cdots$</td>\n",
    "        <td>$\\cdots$</td>\n",
    "        <td>$\\cdots$</td>\n",
    "    </tr>\n",
    "</table>"
   ]
  },
  {
   "cell_type": "markdown",
   "metadata": {
    "lang": "en"
   },
   "source": [
    "Data distribution for the model user $u_0$ (top matrix) and the user $u_1$ (bottom matrix)."
   ]
  },
  {
   "cell_type": "markdown",
   "metadata": {
    "lang": "en"
   },
   "source": [
    "### Questions"
   ]
  },
  {
   "cell_type": "markdown",
   "metadata": {
    "lang": "en"
   },
   "source": [
    "#### 1. Regression (100%)\n",
    "Set up a regression model for each user. Use one or more methods for learning regression models (linear regression, Ridge, Lasso, etc.).\n",
    "\n",
    "For each of the $n$ users, select the appropriate column in the data matrix. Therefore, fot the $i$ user we have:\n",
    "\n",
    "* Response vector $y^{(i)}$,\n",
    "* Data matrix $X^{(i)}$ containing all columns *except* $i$.\n",
    "    \n",
    "For an easier understanding see the above tables. Repeat the test procedure several times (e.g., three times) with the help of the learning and test sets:\n",
    "\n",
    "* Divide the films that the user viewed *randomly* into 75% (learning set) and 25% (test set).\n",
    "* Learn the regression model on learning set (select the appropriate rows in $X$ and $y$).\n",
    "* Evaluate the model on the test set (select the appropriate rows in $X$ and $y$).\n",
    "\n",
    "Then divide the evaluation score with the number of experiments to get the final score.\n",
    "\n",
    "Report on the performance of your model. Focus on the following questions:\n",
    "\n",
    "* Justify an appropriate evaluation score. Does the predict the scores well?\n",
    "* Rate the models for all $n$ users with the selected evaluation score.\n",
    "\n",
    "You can split the code needed for each answer into multiple cells."
   ]
  },
  {
   "cell_type": "markdown",
   "metadata": {},
   "source": [
    "First we have to filter the top movies and users so we can create a proper matrix."
   ]
  },
  {
   "cell_type": "code",
   "execution_count": 1,
   "metadata": {},
   "outputs": [],
   "source": [
    "import pandas as pd\n",
    "import numpy as np\n",
    "from csv import DictReader\n",
    "from sklearn.metrics import mean_squared_error, r2_score\n",
    "from sklearn.model_selection import train_test_split"
   ]
  },
  {
   "cell_type": "code",
   "execution_count": 2,
   "metadata": {},
   "outputs": [
    {
     "name": "stdout",
     "output_type": "stream",
     "text": [
      "    userId  movieId  rating   timestamp\n",
      "0        1       31     2.5  1260759144\n",
      "1        1     1029     3.0  1260759179\n",
      "2        1     1061     3.0  1260759182\n",
      "3        1     1129     2.0  1260759185\n",
      "4        1     1172     4.0  1260759205\n",
      "5        1     1263     2.0  1260759151\n",
      "6        1     1287     2.0  1260759187\n",
      "7        1     1293     2.0  1260759148\n",
      "8        1     1339     3.5  1260759125\n",
      "9        1     1343     2.0  1260759131\n",
      "10       1     1371     2.5  1260759135\n",
      "11       1     1405     1.0  1260759203\n",
      "12       1     1953     4.0  1260759191\n",
      "13       1     2105     4.0  1260759139\n",
      "14       1     2150     3.0  1260759194\n",
      "15       1     2193     2.0  1260759198\n",
      "16       1     2294     2.0  1260759108\n",
      "17       1     2455     2.5  1260759113\n",
      "18       1     2968     1.0  1260759200\n",
      "19       1     3671     3.0  1260759117\n"
     ]
    }
   ],
   "source": [
    "ratings_raw = pd.read_csv('podatki/ml-latest-small/ratings.csv')\n",
    "print(ratings_raw.head(20))\n",
    "\n",
    "#create a dictionary of movieId and title\n",
    "reader = DictReader(open('podatki/ml-latest-small/movies.csv', 'rt', encoding='utf-8'))\n",
    "movieNames = dict()\n",
    "for row in reader:\n",
    "    movie = int(row[\"movieId\"])\n",
    "    title = row[\"title\"]\n",
    "    movieNames[movie] = title"
   ]
  },
  {
   "cell_type": "code",
   "execution_count": 3,
   "metadata": {},
   "outputs": [
    {
     "name": "stdout",
     "output_type": "stream",
     "text": [
      "151\n"
     ]
    }
   ],
   "source": [
    "movies = set(ratings_raw[\"movieId\"].unique())\n",
    "m_views = dict()\n",
    "filteredMovies = dict()\n",
    "for movie in movies:\n",
    "    m_views[movie] = len(ratings_raw[ratings_raw[\"movieId\"] == movie])\n",
    "\n",
    "for movie, ratings in m_views.items():\n",
    "    if (ratings >= 100):\n",
    "        filteredMovies[movie] = ratings\n",
    "print(len(filteredMovies))"
   ]
  },
  {
   "cell_type": "code",
   "execution_count": 4,
   "metadata": {},
   "outputs": [
    {
     "name": "stdout",
     "output_type": "stream",
     "text": [
      "263\n"
     ]
    }
   ],
   "source": [
    "users = set(ratings_raw[\"userId\"].unique())\n",
    "u_views = dict()\n",
    "filteredUsers = dict()\n",
    "for user in users:\n",
    "    u_views[user] = len(ratings_raw[ratings_raw[\"userId\"] == user])\n",
    "\n",
    "for user, ratings in u_views.items():\n",
    "    if (ratings >= 100):\n",
    "        filteredUsers[user] = ratings\n",
    "print(len(filteredUsers))"
   ]
  },
  {
   "cell_type": "markdown",
   "metadata": {},
   "source": [
    "Now we create the matrix."
   ]
  },
  {
   "cell_type": "code",
   "execution_count": 5,
   "metadata": {},
   "outputs": [],
   "source": [
    "matrix = []\n",
    "\n",
    "for movie in filteredMovies:\n",
    "    matrixRow = []\n",
    "    tempDF = ratings_raw[ratings_raw[\"movieId\"] == movie]\n",
    "    for user in filteredUsers:\n",
    "        if tempDF[tempDF[\"userId\"] == user].empty:\n",
    "            matrixRow.append(0)\n",
    "        else:\n",
    "            matrixRow.append(tempDF[tempDF[\"userId\"] == user][\"rating\"].item())\n",
    "    matrix.append(matrixRow)\n",
    "\n",
    "matrix = np.array(matrix)"
   ]
  },
  {
   "cell_type": "markdown",
   "metadata": {},
   "source": [
    "This is the function that will filter out the 0s (unrated movies for given user)."
   ]
  },
  {
   "cell_type": "code",
   "execution_count": 6,
   "metadata": {},
   "outputs": [],
   "source": [
    "def filterEmptyRatings(y, X):\n",
    "    cond = False\n",
    "    while not cond:\n",
    "        for i in range(0, len(y)):\n",
    "            if y[i] == 0 and i == len(y) - 1:\n",
    "                y = np.delete(y, i, 0)\n",
    "                X = np.delete(X, i, 0) \n",
    "                cond = True\n",
    "            elif y[i] == 0:\n",
    "                y = np.delete(y, i, 0)\n",
    "                X = np.delete(X, i, 0)\n",
    "                break\n",
    "            elif i == len(y) - 1:\n",
    "                cond = True\n",
    "    return y, X"
   ]
  },
  {
   "cell_type": "markdown",
   "metadata": {},
   "source": [
    "This function will model the given matrix. I decided to use Mean Square Error as opposed to r2 or variance because it's the less risky option (data might not be linear)."
   ]
  },
  {
   "cell_type": "code",
   "execution_count": 7,
   "metadata": {},
   "outputs": [],
   "source": [
    "def createModel(data, model):\n",
    "    ans = []\n",
    "    for i in range(np.shape(data)[1]):\n",
    "        X = np.array(np.zeros(shape=(151, 262)))\n",
    "        y = data[:, i]\n",
    "        X = np.delete(data, i, axis=1)\n",
    "        y, X = filterEmptyRatings(y, X)\n",
    "        \n",
    "        X_train, X_test, y_train, y_test = train_test_split(X, y, test_size=0.25, random_state=42)\n",
    "        model.fit(X_train, y_train)\n",
    "        y_pred = model.predict(X_test)\n",
    "        \n",
    "        mse = mean_squared_error(y_test, y_pred, squared=False)\n",
    "        ans.append(mse)\n",
    "    return ans"
   ]
  },
  {
   "cell_type": "markdown",
   "metadata": {},
   "source": [
    "Below are all the linear models."
   ]
  },
  {
   "cell_type": "code",
   "execution_count": 8,
   "metadata": {},
   "outputs": [
    {
     "name": "stdout",
     "output_type": "stream",
     "text": [
      "0.8227808809260485\n"
     ]
    }
   ],
   "source": [
    "from sklearn.linear_model import LinearRegression\n",
    "simpleRegression = createModel(matrix, LinearRegression())\n",
    "print(np.mean([score for score in simpleRegression]))"
   ]
  },
  {
   "cell_type": "code",
   "execution_count": 9,
   "metadata": {},
   "outputs": [
    {
     "name": "stdout",
     "output_type": "stream",
     "text": [
      "0.8225102762145889\n"
     ]
    }
   ],
   "source": [
    "from sklearn.linear_model import Ridge\n",
    "ridgeRegression = createModel(matrix, Ridge(0.4))\n",
    "print(np.mean([score for score in ridgeRegression]))"
   ]
  },
  {
   "cell_type": "code",
   "execution_count": 10,
   "metadata": {},
   "outputs": [
    {
     "name": "stdout",
     "output_type": "stream",
     "text": [
      "0.8398585057336113\n"
     ]
    }
   ],
   "source": [
    "from sklearn.linear_model import Lasso\n",
    "lassoRegression = createModel(matrix, Lasso(0.55))\n",
    "print(np.mean([score for score in lassoRegression]))"
   ]
  },
  {
   "cell_type": "code",
   "execution_count": 11,
   "metadata": {},
   "outputs": [
    {
     "name": "stdout",
     "output_type": "stream",
     "text": [
      "0.8276449874592797\n"
     ]
    }
   ],
   "source": [
    "from sklearn.linear_model import ElasticNetCV\n",
    "elasticNet = createModel(matrix, ElasticNetCV(cv=4, max_iter=10000))\n",
    "print(np.mean([score for score in elasticNet]))"
   ]
  },
  {
   "cell_type": "code",
   "execution_count": 12,
   "metadata": {},
   "outputs": [
    {
     "name": "stdout",
     "output_type": "stream",
     "text": [
      "0.8364857804832433\n"
     ]
    }
   ],
   "source": [
    "from sklearn.linear_model import LassoCV\n",
    "lasso = createModel(matrix, LassoCV(tol=0.1, cv=4, max_iter=10000))\n",
    "print(np.mean([score for score in lasso]))"
   ]
  },
  {
   "cell_type": "code",
   "execution_count": 13,
   "metadata": {},
   "outputs": [
    {
     "name": "stdout",
     "output_type": "stream",
     "text": [
      "0.8395182374744704\n"
     ]
    }
   ],
   "source": [
    "from sklearn.linear_model import LarsCV\n",
    "lars = createModel(matrix, LarsCV(max_iter=100, cv=4, eps=5))\n",
    "print(np.mean([score for score in lars]))"
   ]
  },
  {
   "cell_type": "code",
   "execution_count": 14,
   "metadata": {},
   "outputs": [
    {
     "name": "stdout",
     "output_type": "stream",
     "text": [
      "0.8395182374744704\n"
     ]
    }
   ],
   "source": [
    "from sklearn.linear_model import LassoLarsCV\n",
    "lassoLars = createModel(matrix, LarsCV(max_iter=100, cv=4, eps=5))\n",
    "print(np.mean([score for score in lassoLars]))"
   ]
  },
  {
   "cell_type": "markdown",
   "metadata": {
    "lang": "en"
   },
   "source": [
    "#### Bonus question (15%)\n",
    "Create a new user who represents your movie ratings. Rate some movies after your own taste and see how models \n",
    "evaluate non-selected movies. Do you find the predictions appropriate?\n",
    "\n",
    "You can split the code needed for each answer into multiple cells."
   ]
  },
  {
   "cell_type": "code",
   "execution_count": null,
   "metadata": {
    "hide_input": false
   },
   "outputs": [],
   "source": []
  },
  {
   "cell_type": "markdown",
   "metadata": {
    "lang": "en"
   },
   "source": [
    "### Notes\n",
    "\n",
    "Implementation, description, and evaluation of supervised learning methods are included in libraries `skleaarn` or` Orange`."
   ]
  }
 ],
 "metadata": {
  "celltoolbar": "Raw Cell Format",
  "kernelspec": {
   "display_name": "Python 3",
   "language": "python",
   "name": "python3"
  },
  "language_info": {
   "codemirror_mode": {
    "name": "ipython",
    "version": 3
   },
   "file_extension": ".py",
   "mimetype": "text/x-python",
   "name": "python",
   "nbconvert_exporter": "python",
   "pygments_lexer": "ipython3",
   "version": "3.8.5"
  },
  "latex_envs": {
   "LaTeX_envs_menu_present": true,
   "autocomplete": true,
   "bibliofile": "biblio.bib",
   "cite_by": "apalike",
   "current_citInitial": 1,
   "eqLabelWithNumbers": true,
   "eqNumInitial": 1,
   "hotkeys": {
    "equation": "Ctrl-E",
    "itemize": "Ctrl-I"
   },
   "labels_anchors": false,
   "latex_user_defs": false,
   "report_style_numbering": false,
   "user_envs_cfg": false
  },
  "nbTranslate": {
   "displayLangs": [
    "en"
   ],
   "hotkey": "alt-t",
   "langInMainMenu": true,
   "sourceLang": "sl",
   "targetLang": "en",
   "useGoogleTranslate": true
  }
 },
 "nbformat": 4,
 "nbformat_minor": 2
}
